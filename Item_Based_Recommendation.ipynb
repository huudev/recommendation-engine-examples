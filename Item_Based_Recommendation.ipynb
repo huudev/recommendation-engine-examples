{
 "cells": [
  {
   "cell_type": "code",
   "execution_count": 2,
   "metadata": {
    "collapsed": false
   },
   "outputs": [],
   "source": [
    "import pandas as pd\n",
    "from scipy.spatial.distance import cosine,euclidean,hamming\n",
    "\n",
    "data = pd.read_csv('data/lastfm-matrix-germany.csv')\n",
    "\n",
    "data_germany = data.drop('user', 1)\n",
    "\n",
    "# Create a placeholder dataframe listing item vs. item\n",
    "data_ibs = pd.DataFrame(index=data_germany.columns,columns=data_germany.columns)\n",
    "\n",
    "# Lets fill in those empty spaces with cosine similarities\n",
    "# Loop through the columns\n",
    "for i in range(0,len(data_ibs.columns)) :\n",
    "    # Loop through the columns for each column\n",
    "    for j in range(0,len(data_ibs.columns)) :\n",
    "      # Fill in placeholder with cosine similarities\n",
    "      data_ibs.ix[i,j] = 1-hamming(data_germany.ix[:,i],data_germany.ix[:,j])\n",
    "\n",
    "# Create a placeholder items for closes neighbours to an item\n",
    "data_neighbours = pd.DataFrame(index=data_ibs.columns,columns=range(1,11))\n",
    "\n",
    "\n",
    "# Loop through our similarity dataframe and fill in neighbouring item names\n",
    "for i in range(0,len(data_ibs.columns)):\n",
    "    data_neighbours.ix[i,:10] = data_ibs.ix[0:,i].sort_values(ascending=False)[:10].index\n",
    "\n"
   ]
  },
  {
   "cell_type": "code",
   "execution_count": 3,
   "metadata": {
    "collapsed": false
   },
   "outputs": [
    {
     "data": {
      "text/html": [
       "<div>\n",
       "<table border=\"1\" class=\"dataframe\">\n",
       "  <thead>\n",
       "    <tr style=\"text-align: right;\">\n",
       "      <th></th>\n",
       "      <th>1</th>\n",
       "      <th>2</th>\n",
       "      <th>3</th>\n",
       "      <th>4</th>\n",
       "      <th>5</th>\n",
       "      <th>6</th>\n",
       "      <th>7</th>\n",
       "      <th>8</th>\n",
       "      <th>9</th>\n",
       "      <th>10</th>\n",
       "    </tr>\n",
       "  </thead>\n",
       "  <tbody>\n",
       "    <tr>\n",
       "      <th>red hot chili peppers</th>\n",
       "      <td>red hot chili peppers</td>\n",
       "      <td>audioslave</td>\n",
       "      <td>alanis morissette</td>\n",
       "      <td>pearl jam</td>\n",
       "      <td>aerosmith</td>\n",
       "      <td>guano apes</td>\n",
       "      <td>dire straits</td>\n",
       "      <td>flogging molly</td>\n",
       "      <td>bloodhound gang</td>\n",
       "      <td>eric clapton</td>\n",
       "    </tr>\n",
       "  </tbody>\n",
       "</table>\n",
       "</div>"
      ],
      "text/plain": [
       "                                          1           2                  3   \\\n",
       "red hot chili peppers  red hot chili peppers  audioslave  alanis morissette   \n",
       "\n",
       "                              4          5           6             7   \\\n",
       "red hot chili peppers  pearl jam  aerosmith  guano apes  dire straits   \n",
       "\n",
       "                                   8                9             10  \n",
       "red hot chili peppers  flogging molly  bloodhound gang  eric clapton  "
      ]
     },
     "execution_count": 3,
     "metadata": {},
     "output_type": "execute_result"
    }
   ],
   "source": [
    "data_neighbours.loc[data_neighbours.index=='red hot chili peppers']"
   ]
  },
  {
   "cell_type": "code",
   "execution_count": 4,
   "metadata": {
    "collapsed": false
   },
   "outputs": [
    {
     "data": {
      "text/html": [
       "<div>\n",
       "<table border=\"1\" class=\"dataframe\">\n",
       "  <thead>\n",
       "    <tr style=\"text-align: right;\">\n",
       "      <th></th>\n",
       "      <th>1</th>\n",
       "      <th>2</th>\n",
       "      <th>3</th>\n",
       "      <th>4</th>\n",
       "      <th>5</th>\n",
       "      <th>6</th>\n",
       "      <th>7</th>\n",
       "      <th>8</th>\n",
       "      <th>9</th>\n",
       "      <th>10</th>\n",
       "    </tr>\n",
       "  </thead>\n",
       "  <tbody>\n",
       "    <tr>\n",
       "      <th>coldplay</th>\n",
       "      <td>coldplay</td>\n",
       "      <td>keane</td>\n",
       "      <td>the postal service</td>\n",
       "      <td>maria mena</td>\n",
       "      <td>the fray</td>\n",
       "      <td>travis</td>\n",
       "      <td>jason mraz</td>\n",
       "      <td>james morrison</td>\n",
       "      <td>snow patrol</td>\n",
       "      <td>james blunt</td>\n",
       "    </tr>\n",
       "  </tbody>\n",
       "</table>\n",
       "</div>"
      ],
      "text/plain": [
       "                1      2                   3           4         5       6   \\\n",
       "coldplay  coldplay  keane  the postal service  maria mena  the fray  travis   \n",
       "\n",
       "                  7               8            9            10  \n",
       "coldplay  jason mraz  james morrison  snow patrol  james blunt  "
      ]
     },
     "execution_count": 4,
     "metadata": {},
     "output_type": "execute_result"
    }
   ],
   "source": [
    "data_neighbours.loc[data_neighbours.index=='coldplay']"
   ]
  },
  {
   "cell_type": "code",
   "execution_count": null,
   "metadata": {
    "collapsed": true
   },
   "outputs": [],
   "source": []
  }
 ],
 "metadata": {
  "kernelspec": {
   "display_name": "Python 3",
   "language": "python",
   "name": "python3"
  },
  "language_info": {
   "codemirror_mode": {
    "name": "ipython",
    "version": 3
   },
   "file_extension": ".py",
   "mimetype": "text/x-python",
   "name": "python",
   "nbconvert_exporter": "python",
   "pygments_lexer": "ipython3",
   "version": "3.5.2"
  }
 },
 "nbformat": 4,
 "nbformat_minor": 1
}
